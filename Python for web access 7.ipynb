{
 "cells": [
  {
   "cell_type": "code",
   "execution_count": null,
   "metadata": {},
   "outputs": [],
   "source": [
    "import urllib.request as ur\n",
    "import json\n",
    "\n",
    "url = input(\"Enter location: \")\n",
    "print(\"Retrieving \",url)\n",
    "data = ur.urlopen(url).read().decode('utf-8')\n",
    "print('Retrieved', len(data), 'characters')\n",
    "obj = json.loads(data)\n",
    "\n",
    "sum = 0\n",
    "number = 0\n",
    "\n",
    "for comment in obj[\"comments\"]:\n",
    "    sum += int(comment[\"count\"])\n",
    "    number += 1\n",
    "\n",
    "print('Count:', number)\n",
    "print('Sum:', sum)"
   ]
  }
 ],
 "metadata": {
  "kernelspec": {
   "display_name": "Python 3",
   "language": "python",
   "name": "python3"
  },
  "language_info": {
   "codemirror_mode": {
    "name": "ipython",
    "version": 3
   },
   "file_extension": ".py",
   "mimetype": "text/x-python",
   "name": "python",
   "nbconvert_exporter": "python",
   "pygments_lexer": "ipython3",
   "version": "3.7.4"
  }
 },
 "nbformat": 4,
 "nbformat_minor": 2
}
